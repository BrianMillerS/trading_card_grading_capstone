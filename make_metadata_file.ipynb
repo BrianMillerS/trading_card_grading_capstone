{
 "cells": [
  {
   "attachments": {},
   "cell_type": "markdown",
   "metadata": {},
   "source": [
    "This script aggragates the metadata files that were generated during the web scraping process. Additionally some additional columns will be made\n",
    "such as card print year, card price, and website source. To make these columns the description column will be searched."
   ]
  },
  {
   "cell_type": "code",
   "execution_count": 1,
   "metadata": {},
   "outputs": [],
   "source": [
    "import numpy as np\n",
    "import pandas as pd\n",
    "import pickle\n",
    "from PIL import Image, UnidentifiedImageError\n",
    "import matplotlib.pyplot as plt\n",
    "import seaborn as sns\n",
    "import re\n",
    "import os\n"
   ]
  },
  {
   "cell_type": "code",
   "execution_count": 2,
   "metadata": {},
   "outputs": [],
   "source": [
    "def extract_year(desc):\n",
    "    \"\"\"\n",
    "    Parses a description string and extracts a numerical year from it. \n",
    "    Matches a 4-digit number between 1850 and 2023. FYI the first ever baseball card was made in 1856\n",
    "    Args:\n",
    "        desc (str): description\n",
    "    Returns:\n",
    "        year (num): the year\n",
    "    \"\"\"\n",
    "    pattern = r'(\\b\\d{4}\\b)'\n",
    "    matches = re.findall(pattern, desc)  # within a given description, find all instances of the conditions\n",
    "    for match in matches:\n",
    "        year = int(match)\n",
    "        if year >= 1850 and year <= 2023:  # grab the first instance that makes chronological sense\n",
    "            return year\n",
    "    return float('nan')"
   ]
  },
  {
   "cell_type": "code",
   "execution_count": null,
   "metadata": {},
   "outputs": [],
   "source": [
    "## USER INPUT ##\n",
    "\n",
    "# the name of the final metadata file that will be made\n",
    "metadata_filename = \"metadata_3k_subset.pickle\""
   ]
  },
  {
   "cell_type": "code",
   "execution_count": 3,
   "metadata": {},
   "outputs": [],
   "source": [
    "## LOAD THE METADATA ##\n",
    "\n",
    "# combine all of the metadata files\n",
    "df1 = pd.read_pickle('/Users/brianmiller/Desktop/collection_files/PSA1_collectors_metadata.pkl')\n",
    "df2 = pd.read_pickle('/Users/brianmiller/Desktop/collection_files/PSA2_collectors_metadata.pkl')\n",
    "df3 = pd.read_pickle('/Users/brianmiller/Desktop/collection_files/PSA3_collectors_metadata.pkl')\n",
    "df4 = pd.read_pickle('/Users/brianmiller/Desktop/collection_files/PSA4_collectors_metadata.pkl')\n",
    "df5 = pd.read_pickle('/Users/brianmiller/Desktop/collection_files/PSA5_collectors_metadata.pkl')\n",
    "df6 = pd.read_pickle('/Users/brianmiller/Desktop/collection_files/PSA6_collectors_metadata.pkl')\n",
    "df7 = pd.read_pickle('/Users/brianmiller/Desktop/collection_files/PSA7_collectors_metadata.pkl')\n",
    "df8 = pd.read_pickle('/Users/brianmiller/Desktop/collection_files/PSA8_collectors_metadata.pkl')\n",
    "df9 = pd.read_pickle('/Users/brianmiller/Desktop/collection_files/PSA9_collectors_metadata.pkl')\n",
    "df10 = pd.read_pickle('/Users/brianmiller/Desktop/collection_files/PSA10_collectors_metadata.pkl')\n",
    "\n",
    "# concatenate dataframes\n",
    "metadata_df = pd.concat([df1,df2,df3,df4,df5,df6,df7,df8,df9,df10])\n"
   ]
  },
  {
   "cell_type": "code",
   "execution_count": 4,
   "metadata": {},
   "outputs": [
    {
     "name": "stdout",
     "output_type": "stream",
     "text": [
      "<class 'pandas.core.frame.DataFrame'>\n",
      "Int64Index: 366239 entries, 1 to 104041\n",
      "Data columns (total 11 columns):\n",
      " #   Column           Non-Null Count   Dtype  \n",
      "---  ------           --------------   -----  \n",
      " 0   id               366239 non-null  int64  \n",
      " 1   grade            366239 non-null  object \n",
      " 2   image_name       366239 non-null  object \n",
      " 3   price            357581 non-null  object \n",
      " 4   desc             366239 non-null  object \n",
      " 5   source           366239 non-null  object \n",
      " 6   grade_num        366239 non-null  int64  \n",
      " 7   price_num        357581 non-null  float64\n",
      " 8   year             362895 non-null  float64\n",
      " 9   image_name_file  366239 non-null  object \n",
      " 10  source_clean     366239 non-null  object \n",
      "dtypes: float64(2), int64(2), object(7)\n",
      "memory usage: 33.5+ MB\n",
      "None\n"
     ]
    }
   ],
   "source": [
    "## PREPROCESSING STEPS ##\n",
    "\n",
    "# get the grade int from the grade string\n",
    "metadata_df['grade_num'] = metadata_df['grade'].str.extract(r'(\\d{1,2})')  # captures 1 or 2 digits in a capturing group\n",
    "metadata_df['grade_num'] = pd.to_numeric(metadata_df['grade_num'])\n",
    "\n",
    "# get the price num from the price string\n",
    "# captures the digits (with optional comma for thousand separators) and decimal point (with 2 decimal places) in a capturing group\n",
    "metadata_df['price_num'] = metadata_df['price'].str.extract(r'\\$([\\d,]+(?:\\.\\d{2})?)')\n",
    "metadata_df['price_num'] = pd.to_numeric(metadata_df['price_num'].str.replace(',', ''))\n",
    "\n",
    "# get the year from the description string\n",
    "metadata_df['year'] = metadata_df['desc'].apply(extract_year)\n",
    "\n",
    "# shorten the file name to just the file, not the full path\n",
    "# The ([^/]+) group captures the filename (and extension) at the end of the path\n",
    "metadata_df[\"image_name_file\"] = metadata_df[\"image_name\"].str.extract(r\"/([^/]+)$\")\n",
    "\n",
    "# clean up the source column\n",
    "# matches any string of characters enclosed in parentheses, along with any whitespace before or after the parentheses\n",
    "# It then applies this pattern to each string in the 'source' column using the re.sub() function, which removes all occurrence\n",
    "metadata_df['source_clean'] = metadata_df['source'].apply(lambda x: re.sub(r'\\s*\\([^)]*\\)', '', x))\n",
    "\n",
    "print(metadata_df.info())"
   ]
  },
  {
   "cell_type": "code",
   "execution_count": 5,
   "metadata": {},
   "outputs": [
    {
     "name": "stdout",
     "output_type": "stream",
     "text": [
      "grade_num\n",
      "10           3000\n",
      "9            2999\n",
      "1            2971\n",
      "2            2938\n",
      "8            2937\n",
      "4            2928\n",
      "3            2908\n",
      "5            2906\n",
      "6            2905\n",
      "7            2876\n",
      "dtype: int64\n"
     ]
    }
   ],
   "source": [
    "## MAKE A TRUNCATED VERSION OF THE METADATA ##\n",
    "\n",
    "# subset the metadata to just the files in a specific folder\n",
    "folder_path = \"/Users/brianmiller/Desktop/collection_files/images_3k\"\n",
    "file_names = os.listdir(folder_path)  # get file names\n",
    "metadata_df_subset = metadata_df[metadata_df[\"image_name_file\"].isin(file_names)]\n",
    "\n",
    "# print(metadata_df_subset.info())\n",
    "print(metadata_df_subset[[\"grade_num\"]].value_counts())\n",
    "\n",
    "# # save to pickle file\n",
    "# metadata_df_subset.to_pickle(metadata_filename)\n",
    "\n"
   ]
  },
  {
   "cell_type": "code",
   "execution_count": 7,
   "metadata": {},
   "outputs": [
    {
     "data": {
      "image/png": "[encoded data removed]",
      "text/plain": [
       "<Figure size 640x480 with 1 Axes>"
      ]
     },
     "metadata": {},
     "output_type": "display_data"
    }
   ],
   "source": [
    "##  VISUALIZE DISTRIBUTION  ##\n",
    "\n",
    "sns.countplot(x='grade_num', data=metadata_df,color='steelblue', order=sorted(metadata_df['grade_num'].unique(), reverse=True))\n",
    "\n",
    "# Set the plot title and axis labels\n",
    "plt.title('Dataset Breakdown by PSA Grade')\n",
    "plt.xlabel('PSA Grade')\n",
    "plt.ylabel('Downloaded Images')\n",
    "\n",
    "# Display the plot\n",
    "plt.show()\n",
    "\n",
    "\n"
   ]
  }
 ],
 "metadata": {
  "kernelspec": {
   "display_name": "capstone",
   "language": "python",
   "name": "python3"
  },
  "language_info": {
   "codemirror_mode": {
    "name": "ipython",
    "version": 3
   },
   "file_extension": ".py",
   "mimetype": "text/x-python",
   "name": "python",
   "nbconvert_exporter": "python",
   "pygments_lexer": "ipython3",
   "version": "3.9.7"
  },
  "orig_nbformat": 4
 },
 "nbformat": 4,
 "nbformat_minor": 2
}
